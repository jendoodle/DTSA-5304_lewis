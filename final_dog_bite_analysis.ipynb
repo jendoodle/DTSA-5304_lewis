{
 "cells": [
  {
   "cell_type": "markdown",
   "metadata": {},
   "source": [
    "Dog bite data retrieved from: https://catalog.data.gov/dataset/dohmh-dog-bite-data\n",
    "AKC breed data: https://github.com/tmfilho/akcdata\n"
   ]
  },
  {
   "cell_type": "code",
   "execution_count": 1,
   "metadata": {},
   "outputs": [],
   "source": [
    "import pandas as pd\n",
    "import altair as alt \n",
    "\n",
    "breed_url = 'https://raw.githubusercontent.com/tmfilho/akcdata/master/data/akc-data-latest.csv'\n",
    "breed_data = pd.read_csv(breed_url, index_col=0)\n",
    "breed_data.head();"
   ]
  }
 ],
 "metadata": {
  "kernelspec": {
   "display_name": "base",
   "language": "python",
   "name": "python3"
  },
  "language_info": {
   "codemirror_mode": {
    "name": "ipython",
    "version": 3
   },
   "file_extension": ".py",
   "mimetype": "text/x-python",
   "name": "python",
   "nbconvert_exporter": "python",
   "pygments_lexer": "ipython3",
   "version": "3.11.7"
  }
 },
 "nbformat": 4,
 "nbformat_minor": 2
}
